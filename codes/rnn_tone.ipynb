{
 "cells": [
  {
   "cell_type": "code",
   "execution_count": 19,
   "metadata": {},
   "outputs": [],
   "source": [
    "#importing libraries\n",
    "from os import path\n",
    "from keras import layers\n",
    "import keras\n",
    "from keras.models import Sequential\n",
    "from keras.layers import Dense, LSTM, Dropout\n",
    "import pandas as pd\n",
    "import numpy as np\n",
    "from sklearn.preprocessing import LabelEncoder\n",
    "from keras.models import model_from_json\n",
    "from sklearn.metrics import confusion_matrix\n",
    "import matplotlib.pyplot as plt\n",
    "from sklearn import preprocessing\n",
    "import seaborn as sns"
   ]
  },
  {
   "cell_type": "code",
   "execution_count": 3,
   "metadata": {},
   "outputs": [],
   "source": [
    "#pre-processing csv file\n",
    "def preprocessing1(filepath):\n",
    "    file=pd.read_csv(filepath)\n",
    "    file=file.sample(frac=1)#shuffling the dataset\n",
    "    label=file.Class.tolist()\n",
    "    encoder = LabelEncoder()\n",
    "    label = encoder.fit_transform(label)#encoding the string attribute of classes to numbers\n",
    "    file=file.drop(columns=['filename'])\n",
    "    file=file.drop(columns=['Class'])\n",
    "    file=file.to_numpy()\n",
    "    file=np.reshape(file,(file.shape[0],file.shape[1],1))\n",
    "    return file , label #the final file along with the label"
   ]
  },
  {
   "cell_type": "code",
   "execution_count": 4,
   "metadata": {},
   "outputs": [],
   "source": [
    "#loading the dataset and label\n",
    "pitch, label_p=preprocessing1('/home/karrthik/Projects/dnn/csv/pitch.csv')\n",
    "#carnatic, label_c=preprocessing1(r'E:\\New folder\\dnn\\csv\\carnatic_train.csv')\n",
    "#hindustani, label_h=preprocessing1(r'E:\\New folder\\dnn\\csv\\hindustani_train.csv')\n"
   ]
  },
  {
   "cell_type": "code",
   "execution_count": 5,
   "metadata": {},
   "outputs": [
    {
     "name": "stdout",
     "output_type": "stream",
     "text": [
      "Model: \"sequential\"\n",
      "_________________________________________________________________\n",
      "Layer (type)                 Output Shape              Param #   \n",
      "=================================================================\n",
      "lstm (LSTM)                  (None, 26, 256)           264192    \n",
      "_________________________________________________________________\n",
      "lstm_1 (LSTM)                (None, 26, 256)           525312    \n",
      "_________________________________________________________________\n",
      "lstm_2 (LSTM)                (None, 26, 128)           197120    \n",
      "_________________________________________________________________\n",
      "lstm_3 (LSTM)                (None, 26, 64)            49408     \n",
      "_________________________________________________________________\n",
      "lstm_4 (LSTM)                (None, 16)                5184      \n",
      "_________________________________________________________________\n",
      "dense (Dense)                (None, 12)                204       \n",
      "=================================================================\n",
      "Total params: 1,041,420\n",
      "Trainable params: 1,041,420\n",
      "Non-trainable params: 0\n",
      "_________________________________________________________________\n"
     ]
    }
   ],
   "source": [
    "#defining the dnn network\n",
    "mod1=Sequential()    #for shape and size of input layer based on number of columns\n",
    "mod1.add(LSTM(256,return_sequences=True,input_shape=(26,1)))\n",
    "mod1.add(LSTM(256,return_sequences=True))\n",
    "mod1.add(LSTM(128,return_sequences=True))\n",
    "mod1.add(LSTM(64,return_sequences=True))\n",
    "mod1.add(LSTM(16))\n",
    "mod1.add(Dense(12, activation='softmax'))\n",
    "mod1.summary()\n",
    "mod1.compile(optimizer='adam', loss='sparse_categorical_crossentropy',metrics=['accuracy'])"
   ]
  },
  {
   "cell_type": "code",
   "execution_count": 7,
   "metadata": {},
   "outputs": [
    {
     "name": "stdout",
     "output_type": "stream",
     "text": [
      "Epoch 1/100\n",
      "96/96 [==============================] - 80s 554ms/step - loss: 2.2116 - accuracy: 0.2791 - val_loss: 2.0736 - val_accuracy: 0.2955\n",
      "Epoch 2/100\n",
      "96/96 [==============================] - 49s 507ms/step - loss: 2.0368 - accuracy: 0.3078 - val_loss: 2.0882 - val_accuracy: 0.2949\n",
      "Epoch 3/100\n",
      "96/96 [==============================] - 49s 508ms/step - loss: 2.0909 - accuracy: 0.2782 - val_loss: 2.0797 - val_accuracy: 0.2949\n",
      "Epoch 4/100\n",
      "96/96 [==============================] - 79s 823ms/step - loss: 2.0580 - accuracy: 0.2772 - val_loss: 2.0794 - val_accuracy: 0.2949\n",
      "Epoch 5/100\n",
      "96/96 [==============================] - 87s 910ms/step - loss: 2.0839 - accuracy: 0.2855 - val_loss: 2.0776 - val_accuracy: 0.2949\n",
      "Epoch 6/100\n",
      "96/96 [==============================] - 85s 888ms/step - loss: 2.0665 - accuracy: 0.3014 - val_loss: 2.0782 - val_accuracy: 0.2949\n",
      "Epoch 7/100\n",
      "96/96 [==============================] - 85s 889ms/step - loss: 2.0728 - accuracy: 0.2728 - val_loss: 2.0779 - val_accuracy: 0.2949\n",
      "Epoch 8/100\n",
      "96/96 [==============================] - 85s 891ms/step - loss: 2.0827 - accuracy: 0.2913 - val_loss: 2.0799 - val_accuracy: 0.2949\n",
      "Epoch 9/100\n",
      "96/96 [==============================] - 85s 881ms/step - loss: 2.0815 - accuracy: 0.2796 - val_loss: 2.0771 - val_accuracy: 0.2949\n",
      "Epoch 10/100\n",
      "96/96 [==============================] - 86s 896ms/step - loss: 2.0857 - accuracy: 0.2767 - val_loss: 2.0782 - val_accuracy: 0.2949\n",
      "Epoch 11/100\n",
      "96/96 [==============================] - 86s 897ms/step - loss: 2.0984 - accuracy: 0.2693 - val_loss: 2.0778 - val_accuracy: 0.2949\n",
      "Epoch 12/100\n",
      "96/96 [==============================] - 86s 895ms/step - loss: 2.0683 - accuracy: 0.2870 - val_loss: 2.0775 - val_accuracy: 0.2949\n",
      "Epoch 13/100\n",
      "96/96 [==============================] - 85s 885ms/step - loss: 2.0792 - accuracy: 0.2848 - val_loss: 2.0759 - val_accuracy: 0.2949\n",
      "Epoch 14/100\n",
      "96/96 [==============================] - 87s 903ms/step - loss: 2.0828 - accuracy: 0.2759 - val_loss: 2.0763 - val_accuracy: 0.2949\n",
      "Epoch 15/100\n",
      "96/96 [==============================] - 83s 868ms/step - loss: 2.0401 - accuracy: 0.2961 - val_loss: 2.0788 - val_accuracy: 0.2949\n",
      "Epoch 16/100\n",
      "96/96 [==============================] - 76s 789ms/step - loss: 2.0519 - accuracy: 0.2923 - val_loss: 2.0795 - val_accuracy: 0.2949\n",
      "Epoch 17/100\n",
      "96/96 [==============================] - 69s 722ms/step - loss: 2.0864 - accuracy: 0.2770 - val_loss: 2.0789 - val_accuracy: 0.2949\n",
      "Epoch 18/100\n",
      "96/96 [==============================] - 67s 696ms/step - loss: 2.0760 - accuracy: 0.2781 - val_loss: 2.0778 - val_accuracy: 0.2949\n",
      "Epoch 19/100\n",
      "96/96 [==============================] - 66s 692ms/step - loss: 2.0642 - accuracy: 0.2848 - val_loss: 2.0765 - val_accuracy: 0.2949\n",
      "Epoch 20/100\n",
      "96/96 [==============================] - 67s 703ms/step - loss: 2.0613 - accuracy: 0.2923 - val_loss: 2.0729 - val_accuracy: 0.2949\n",
      "Epoch 21/100\n",
      "96/96 [==============================] - 67s 696ms/step - loss: 2.0645 - accuracy: 0.2934 - val_loss: 2.0614 - val_accuracy: 0.3004\n",
      "Epoch 22/100\n",
      "96/96 [==============================] - 66s 693ms/step - loss: 2.0358 - accuracy: 0.2921 - val_loss: 1.9613 - val_accuracy: 0.2930\n",
      "Epoch 23/100\n",
      "96/96 [==============================] - 67s 697ms/step - loss: 1.9333 - accuracy: 0.3106 - val_loss: 1.8734 - val_accuracy: 0.3303\n",
      "Epoch 24/100\n",
      "96/96 [==============================] - 66s 684ms/step - loss: 1.8986 - accuracy: 0.3343 - val_loss: 1.7968 - val_accuracy: 0.3797\n",
      "Epoch 25/100\n",
      "96/96 [==============================] - 67s 698ms/step - loss: 1.7987 - accuracy: 0.3701 - val_loss: 1.7727 - val_accuracy: 0.3571\n",
      "Epoch 26/100\n",
      "96/96 [==============================] - 65s 683ms/step - loss: 1.7244 - accuracy: 0.3890 - val_loss: 1.7207 - val_accuracy: 0.3919\n",
      "Epoch 27/100\n",
      "96/96 [==============================] - 67s 693ms/step - loss: 1.6978 - accuracy: 0.4153 - val_loss: 1.6479 - val_accuracy: 0.4536\n",
      "Epoch 28/100\n",
      "96/96 [==============================] - 66s 685ms/step - loss: 1.5689 - accuracy: 0.4619 - val_loss: 1.6005 - val_accuracy: 0.4676\n",
      "Epoch 29/100\n",
      "96/96 [==============================] - 67s 697ms/step - loss: 1.5569 - accuracy: 0.4803 - val_loss: 1.5500 - val_accuracy: 0.4786\n",
      "Epoch 30/100\n",
      "96/96 [==============================] - 65s 678ms/step - loss: 1.4382 - accuracy: 0.5062 - val_loss: 1.4597 - val_accuracy: 0.5000\n",
      "Epoch 31/100\n",
      "96/96 [==============================] - 66s 689ms/step - loss: 1.3933 - accuracy: 0.5210 - val_loss: 1.4431 - val_accuracy: 0.5324\n",
      "Epoch 32/100\n",
      "96/96 [==============================] - 65s 678ms/step - loss: 1.2824 - accuracy: 0.5754 - val_loss: 1.2814 - val_accuracy: 0.5702\n",
      "Epoch 33/100\n",
      "96/96 [==============================] - 66s 685ms/step - loss: 1.1712 - accuracy: 0.6057 - val_loss: 1.2046 - val_accuracy: 0.5989\n",
      "Epoch 34/100\n",
      "96/96 [==============================] - 65s 676ms/step - loss: 1.1543 - accuracy: 0.6100 - val_loss: 1.1309 - val_accuracy: 0.6099\n",
      "Epoch 35/100\n",
      "96/96 [==============================] - 66s 691ms/step - loss: 1.0723 - accuracy: 0.6295 - val_loss: 1.1820 - val_accuracy: 0.5836\n",
      "Epoch 36/100\n",
      "96/96 [==============================] - 65s 676ms/step - loss: 1.0853 - accuracy: 0.6255 - val_loss: 0.9937 - val_accuracy: 0.6661\n",
      "Epoch 37/100\n",
      "96/96 [==============================] - 66s 683ms/step - loss: 0.9337 - accuracy: 0.6683 - val_loss: 0.9717 - val_accuracy: 0.6673\n",
      "Epoch 38/100\n",
      "96/96 [==============================] - 65s 674ms/step - loss: 0.7727 - accuracy: 0.7416 - val_loss: 0.8873 - val_accuracy: 0.7063\n",
      "Epoch 39/100\n",
      "96/96 [==============================] - 66s 686ms/step - loss: 0.7580 - accuracy: 0.7344 - val_loss: 0.8176 - val_accuracy: 0.7277\n",
      "Epoch 40/100\n",
      "96/96 [==============================] - 65s 676ms/step - loss: 0.6884 - accuracy: 0.7579 - val_loss: 0.8139 - val_accuracy: 0.7216\n",
      "Epoch 41/100\n",
      "96/96 [==============================] - 66s 684ms/step - loss: 0.8188 - accuracy: 0.7032 - val_loss: 0.7877 - val_accuracy: 0.7308\n",
      "Epoch 42/100\n",
      "96/96 [==============================] - 65s 680ms/step - loss: 0.6167 - accuracy: 0.7769 - val_loss: 0.7305 - val_accuracy: 0.7497\n",
      "Epoch 43/100\n",
      "96/96 [==============================] - 250s 3s/step - loss: 0.5681 - accuracy: 0.7911 - val_loss: 0.7335 - val_accuracy: 0.7534\n",
      "Epoch 44/100\n",
      "96/96 [==============================] - 66s 683ms/step - loss: 0.7562 - accuracy: 0.7321 - val_loss: 0.7407 - val_accuracy: 0.7515\n",
      "Epoch 45/100\n",
      "96/96 [==============================] - 66s 688ms/step - loss: 0.5803 - accuracy: 0.7911 - val_loss: 0.6578 - val_accuracy: 0.7753\n",
      "Epoch 46/100\n",
      "96/96 [==============================] - 66s 687ms/step - loss: 0.4855 - accuracy: 0.8223 - val_loss: 0.6319 - val_accuracy: 0.7814\n",
      "Epoch 47/100\n",
      "96/96 [==============================] - 66s 685ms/step - loss: 0.4478 - accuracy: 0.8186 - val_loss: 0.6332 - val_accuracy: 0.7845\n",
      "Epoch 48/100\n",
      "96/96 [==============================] - 68s 706ms/step - loss: 0.4228 - accuracy: 0.8329 - val_loss: 0.6038 - val_accuracy: 0.7900\n",
      "Epoch 49/100\n",
      "96/96 [==============================] - 51s 527ms/step - loss: 0.3827 - accuracy: 0.8508 - val_loss: 0.5944 - val_accuracy: 0.7875\n",
      "Epoch 50/100\n",
      "96/96 [==============================] - 52s 541ms/step - loss: 0.3568 - accuracy: 0.8524 - val_loss: 0.5940 - val_accuracy: 0.7991\n",
      "Epoch 51/100\n",
      "96/96 [==============================] - 81s 847ms/step - loss: 0.4194 - accuracy: 0.8495 - val_loss: 0.5881 - val_accuracy: 0.7955\n",
      "Epoch 52/100\n",
      "96/96 [==============================] - 83s 871ms/step - loss: 0.3113 - accuracy: 0.8734 - val_loss: 0.5888 - val_accuracy: 0.7955\n",
      "Epoch 53/100\n",
      "96/96 [==============================] - 84s 877ms/step - loss: 0.3433 - accuracy: 0.8596 - val_loss: 0.5969 - val_accuracy: 0.7882\n",
      "Epoch 54/100\n",
      "96/96 [==============================] - 88s 915ms/step - loss: 0.3680 - accuracy: 0.8501 - val_loss: 0.5850 - val_accuracy: 0.7930\n",
      "Epoch 55/100\n",
      "96/96 [==============================] - 83s 866ms/step - loss: 0.3308 - accuracy: 0.8619 - val_loss: 0.6225 - val_accuracy: 0.7814\n",
      "Epoch 56/100\n",
      "96/96 [==============================] - 85s 887ms/step - loss: 0.3045 - accuracy: 0.8552 - val_loss: 0.5086 - val_accuracy: 0.8150\n",
      "Epoch 57/100\n"
     ]
    },
    {
     "name": "stdout",
     "output_type": "stream",
     "text": [
      "96/96 [==============================] - 84s 877ms/step - loss: 0.2742 - accuracy: 0.8832 - val_loss: 0.5624 - val_accuracy: 0.7949\n",
      "Epoch 58/100\n",
      "96/96 [==============================] - 88s 915ms/step - loss: 0.2632 - accuracy: 0.8823 - val_loss: 0.5582 - val_accuracy: 0.7937\n",
      "Epoch 59/100\n",
      "96/96 [==============================] - 142s 1s/step - loss: 0.2750 - accuracy: 0.8755 - val_loss: 0.5623 - val_accuracy: 0.7985\n",
      "Epoch 60/100\n",
      "96/96 [==============================] - 107s 1s/step - loss: 0.3225 - accuracy: 0.8576 - val_loss: 0.5481 - val_accuracy: 0.8120\n",
      "Epoch 61/100\n",
      "96/96 [==============================] - 94s 982ms/step - loss: 0.3168 - accuracy: 0.8578 - val_loss: 0.5777 - val_accuracy: 0.8022\n",
      "Epoch 62/100\n",
      "96/96 [==============================] - 88s 922ms/step - loss: 0.2622 - accuracy: 0.8808 - val_loss: 0.5836 - val_accuracy: 0.7937\n",
      "Epoch 63/100\n",
      "96/96 [==============================] - 85s 891ms/step - loss: 0.2417 - accuracy: 0.8790 - val_loss: 0.5204 - val_accuracy: 0.8193\n",
      "Epoch 64/100\n",
      "96/96 [==============================] - 88s 915ms/step - loss: 0.2334 - accuracy: 0.8848 - val_loss: 0.5935 - val_accuracy: 0.7961\n",
      "Epoch 65/100\n",
      "96/96 [==============================] - 87s 907ms/step - loss: 0.2463 - accuracy: 0.8763 - val_loss: 0.4999 - val_accuracy: 0.8223\n",
      "Epoch 66/100\n",
      "96/96 [==============================] - 87s 911ms/step - loss: 0.1986 - accuracy: 0.9005 - val_loss: 0.5048 - val_accuracy: 0.8187\n",
      "Epoch 67/100\n",
      "96/96 [==============================] - 86s 896ms/step - loss: 0.1860 - accuracy: 0.9032 - val_loss: 0.4994 - val_accuracy: 0.8150\n",
      "Epoch 68/100\n",
      "96/96 [==============================] - 87s 908ms/step - loss: 0.1727 - accuracy: 0.9090 - val_loss: 0.5155 - val_accuracy: 0.8132\n",
      "Epoch 69/100\n",
      "96/96 [==============================] - 87s 912ms/step - loss: 0.1973 - accuracy: 0.9042 - val_loss: 0.5104 - val_accuracy: 0.8223\n",
      "Epoch 70/100\n",
      "96/96 [==============================] - 88s 916ms/step - loss: 0.1812 - accuracy: 0.9018 - val_loss: 0.4801 - val_accuracy: 0.8181\n",
      "Epoch 71/100\n",
      "96/96 [==============================] - 88s 920ms/step - loss: 0.1814 - accuracy: 0.9014 - val_loss: 0.5155 - val_accuracy: 0.8089\n",
      "Epoch 72/100\n",
      "96/96 [==============================] - 88s 918ms/step - loss: 0.1729 - accuracy: 0.9099 - val_loss: 0.5526 - val_accuracy: 0.8059\n",
      "Epoch 73/100\n",
      "96/96 [==============================] - 89s 925ms/step - loss: 0.2240 - accuracy: 0.8813 - val_loss: 0.5941 - val_accuracy: 0.7875\n",
      "Epoch 74/100\n",
      "96/96 [==============================] - 88s 919ms/step - loss: 0.2406 - accuracy: 0.8841 - val_loss: 0.5626 - val_accuracy: 0.8071\n",
      "Epoch 75/100\n",
      "96/96 [==============================] - 86s 898ms/step - loss: 0.2388 - accuracy: 0.8768 - val_loss: 0.5518 - val_accuracy: 0.8162\n",
      "Epoch 76/100\n",
      "96/96 [==============================] - 74s 771ms/step - loss: 0.1960 - accuracy: 0.8927 - val_loss: 0.4845 - val_accuracy: 0.8248\n",
      "Epoch 77/100\n",
      "96/96 [==============================] - 72s 748ms/step - loss: 0.1662 - accuracy: 0.9086 - val_loss: 0.5188 - val_accuracy: 0.8046\n",
      "Epoch 78/100\n",
      "96/96 [==============================] - 70s 728ms/step - loss: 0.1743 - accuracy: 0.9123 - val_loss: 0.5221 - val_accuracy: 0.8095\n",
      "Epoch 79/100\n",
      "96/96 [==============================] - 76s 795ms/step - loss: 0.1551 - accuracy: 0.9062 - val_loss: 0.5090 - val_accuracy: 0.8144\n",
      "Epoch 80/100\n",
      "96/96 [==============================] - 68s 705ms/step - loss: 0.1712 - accuracy: 0.9004 - val_loss: 0.5284 - val_accuracy: 0.8114\n",
      "Epoch 81/100\n",
      "96/96 [==============================] - 57s 596ms/step - loss: 0.1695 - accuracy: 0.9029 - val_loss: 0.5327 - val_accuracy: 0.8022\n",
      "Epoch 82/100\n",
      "96/96 [==============================] - 58s 601ms/step - loss: 0.2455 - accuracy: 0.8862 - val_loss: 0.5626 - val_accuracy: 0.8077\n",
      "Epoch 83/100\n",
      "96/96 [==============================] - 45s 465ms/step - loss: 0.2013 - accuracy: 0.8960 - val_loss: 0.5235 - val_accuracy: 0.8077\n",
      "Epoch 84/100\n",
      "96/96 [==============================] - 45s 467ms/step - loss: 0.2617 - accuracy: 0.8839 - val_loss: 0.5694 - val_accuracy: 0.7979\n",
      "Epoch 85/100\n",
      "96/96 [==============================] - 50s 518ms/step - loss: 0.1743 - accuracy: 0.9072 - val_loss: 0.5079 - val_accuracy: 0.8254\n",
      "Epoch 86/100\n",
      "96/96 [==============================] - 45s 472ms/step - loss: 0.1672 - accuracy: 0.9053 - val_loss: 0.5250 - val_accuracy: 0.8126\n",
      "Epoch 87/100\n",
      "96/96 [==============================] - 46s 476ms/step - loss: 0.1592 - accuracy: 0.9121 - val_loss: 0.5866 - val_accuracy: 0.8114\n",
      "Epoch 88/100\n",
      "96/96 [==============================] - 43s 448ms/step - loss: 0.1497 - accuracy: 0.9154 - val_loss: 0.5225 - val_accuracy: 0.8260\n",
      "Epoch 89/100\n",
      "96/96 [==============================] - 44s 455ms/step - loss: 0.1463 - accuracy: 0.9108 - val_loss: 0.5091 - val_accuracy: 0.8309\n",
      "Epoch 90/100\n",
      "96/96 [==============================] - 44s 455ms/step - loss: 0.1387 - accuracy: 0.9096 - val_loss: 0.4864 - val_accuracy: 0.8199\n",
      "Epoch 91/100\n",
      "96/96 [==============================] - 45s 465ms/step - loss: 0.1369 - accuracy: 0.9220 - val_loss: 0.5288 - val_accuracy: 0.8199\n",
      "Epoch 92/100\n",
      "96/96 [==============================] - 44s 463ms/step - loss: 0.1661 - accuracy: 0.9112 - val_loss: 0.5960 - val_accuracy: 0.7894\n",
      "Epoch 93/100\n",
      "96/96 [==============================] - 44s 461ms/step - loss: 0.2395 - accuracy: 0.8867 - val_loss: 0.5674 - val_accuracy: 0.8016\n",
      "Epoch 94/100\n",
      "96/96 [==============================] - 44s 460ms/step - loss: 0.1865 - accuracy: 0.9003 - val_loss: 0.6104 - val_accuracy: 0.7998\n",
      "Epoch 95/100\n",
      "96/96 [==============================] - 43s 444ms/step - loss: 0.2402 - accuracy: 0.8739 - val_loss: 0.6123 - val_accuracy: 0.7918\n",
      "Epoch 96/100\n",
      "96/96 [==============================] - 45s 472ms/step - loss: 0.2252 - accuracy: 0.8763 - val_loss: 0.5366 - val_accuracy: 0.8205\n",
      "Epoch 97/100\n",
      "96/96 [==============================] - 45s 466ms/step - loss: 0.1649 - accuracy: 0.8967 - val_loss: 0.5227 - val_accuracy: 0.8254\n",
      "Epoch 98/100\n",
      "96/96 [==============================] - 44s 461ms/step - loss: 0.1482 - accuracy: 0.9108 - val_loss: 0.5093 - val_accuracy: 0.8248\n",
      "Epoch 99/100\n",
      "96/96 [==============================] - 43s 445ms/step - loss: 0.1523 - accuracy: 0.9057 - val_loss: 0.5210 - val_accuracy: 0.8230\n",
      "Epoch 100/100\n",
      "96/96 [==============================] - 46s 478ms/step - loss: 0.1413 - accuracy: 0.9161 - val_loss: 0.5813 - val_accuracy: 0.8138\n"
     ]
    }
   ],
   "source": [
    "history=mod1.fit(pitch,label_p,validation_split=0.35, epochs=100)"
   ]
  },
  {
   "cell_type": "code",
   "execution_count": null,
   "metadata": {},
   "outputs": [],
   "source": [
    "df=pd.read_csv(r'E:\\New folder\\dnn\\csv\\pitch_test.csv')\n",
    "file = df.copy()\n",
    "\"\"\"for feature_name in df.columns:\n",
    "        max_value = df[feature_name].max()\n",
    "        min_value = df[feature_name].min()\n",
    "        file[feature_name] = (df[feature_name] - min_value) / (max_value - min_value)\"\"\"\n",
    "file=file.to_numpy()\n",
    "test1=np.reshape(file,(file.shape[0],file.shape[1],1))\n",
    "y_prediction=np.argmax(mod1.predict(test1), axis=-1)\n",
    "y_prediction"
   ]
  },
  {
   "cell_type": "code",
   "execution_count": null,
   "metadata": {},
   "outputs": [],
   "source": [
    "keras.backend.clear_session()"
   ]
  },
  {
   "cell_type": "code",
   "execution_count": null,
   "metadata": {},
   "outputs": [],
   "source": [
    "mod1.evaluate(train_x,Label_Data_enc, verbose=0)"
   ]
  },
  {
   "cell_type": "code",
   "execution_count": null,
   "metadata": {},
   "outputs": [],
   "source": [
    "#saving the model as a json file with weights in h5 format\n",
    "model_json = mod1.to_json()\n",
    "with open(r\"E:\\New folder\\dnn\\model\\pitch_rnn.json\", \"w\") as json_file:\n",
    "    json_file.write(model_json)\n",
    "# serialize weights to HDF5\n",
    "mod1.save_weights(r\"E:\\New folder\\dnn\\model\\pitch_rnn.h5\")\n",
    "print(\"Saved model to disk\")"
   ]
  },
  {
   "cell_type": "code",
   "execution_count": null,
   "metadata": {},
   "outputs": [],
   "source": [
    "#loading the file\n",
    "json_file = open(r'E:\\New folder\\dnn\\model\\pitch_rnn.json', 'r')\n",
    "loaded_model_json = json_file.read()\n",
    "json_file.close()\n",
    "loaded_model = model_from_json(loaded_model_json)\n",
    "# load weights into new model\n",
    "loaded_model.load_weights(r\"E:\\New folder\\dnn\\model\\pitch_rnn.h5\")\n",
    "print(\"Loaded model from disk\")\n",
    "loaded_model.compile(optimizer='adam', loss='sparse_categorical_crossentropy',metrics=['accuracy'])"
   ]
  },
  {
   "cell_type": "code",
   "execution_count": null,
   "metadata": {},
   "outputs": [],
   "source": [
    "pitch_final.evaluate(pitch,label_p, verbose=0)"
   ]
  },
  {
   "cell_type": "code",
   "execution_count": null,
   "metadata": {},
   "outputs": [],
   "source": [
    "#carnatic\n",
    "#violin, veena, flute\n",
    "test=pd.read_csv(r'E:\\New folder\\dnn\\csv\\veena_test.csv')\n",
    "#carnatic->confusion matrix\n",
    "y_prediction_c=np.argmax(carnatic_final.predict(carnatic), axis=-1)\n",
    "\n",
    "\n"
   ]
  },
  {
   "cell_type": "code",
   "execution_count": null,
   "metadata": {},
   "outputs": [],
   "source": [
    "for i in y_prediction_c:\n",
    "    if i==0:\n",
    "        print('flute')\n",
    "    if i==1:\n",
    "        print('veena')\n",
    "    if i==2:\n",
    "        print('violin')"
   ]
  },
  {
   "cell_type": "code",
   "execution_count": null,
   "metadata": {},
   "outputs": [],
   "source": [
    "#carnatic confusion matrix-run the original dataset for confusion matrix\n",
    "C=confusion_matrix(label_c, y_prediction_c)\n",
    "K=((C / C.astype(np.float).sum(axis=1))*100)\n",
    "for i in range (3):\n",
    "    print(K[i][i])\n",
    "K"
   ]
  },
  {
   "cell_type": "code",
   "execution_count": null,
   "metadata": {},
   "outputs": [],
   "source": [
    "for i in y_prediction_h:\n",
    "    if i//1==0:\n",
    "        print('bansuri')\n",
    "    if i//1==1:\n",
    "        print('santoor')\n",
    "    if i//1==2:\n",
    "        print('sarangi')\n",
    "    if i//1==3:\n",
    "        print('sarod')\n",
    "    if i//1==4:\n",
    "        print('shehnai')\n",
    "    if i//1==5:\n",
    "        print('sitar')\n",
    "    if i//1==6:\n",
    "        print('violin')\n",
    "  "
   ]
  },
  {
   "cell_type": "code",
   "execution_count": null,
   "metadata": {},
   "outputs": [],
   "source": [
    "#hindustani \n",
    "#bansuri, shehnai, violin, sitar, santoor, sarangi\n",
    "#test1=pd.read_csv(r'E:\\New folder\\dnn\\csv\\sita_test.csv')\n",
    "y_prediction_h=np.argmax(loaded_model.predict(hindustani), axis=-1)\n",
    "y_prediction_h"
   ]
  },
  {
   "cell_type": "code",
   "execution_count": null,
   "metadata": {},
   "outputs": [],
   "source": [
    "#hindustani confusion matrix-run the original dataset for confusion matrix\n",
    "C=confusion_matrix(label_h, y_prediction_h)\n",
    "K=((C / C.astype(np.float).sum(axis=1))*100)\n",
    "for i in range (7):\n",
    "    print(K[i][i])\n",
    "K"
   ]
  },
  {
   "cell_type": "code",
   "execution_count": 10,
   "metadata": {},
   "outputs": [
    {
     "data": {
      "text/plain": [
       "array([2, 5, 5, ..., 4, 8, 8])"
      ]
     },
     "execution_count": 10,
     "metadata": {},
     "output_type": "execute_result"
    }
   ],
   "source": [
    "#pitch prediction\n",
    "#test2=pd.read_csv(r'E:\\New folder\\dnn\\csv\\veena_test.csv')#test file\n",
    "y_prediction_p=np.argmax(mod1.predict(pitch), axis=-1)\n",
    "y_prediction_p"
   ]
  },
  {
   "cell_type": "code",
   "execution_count": null,
   "metadata": {},
   "outputs": [],
   "source": [
    "for i in y_prediction_p:\n",
    "    if i//1==0:\n",
    "        print('A')\n",
    "    if i//1==1:\n",
    "        print('A#')\n",
    "    if i//1==2:\n",
    "        print('B')\n",
    "    if i//1==3:\n",
    "        print('C')\n",
    "    if i//1==4:\n",
    "        print('C#')\n",
    "    if i//1==5:\n",
    "        print('D')\n",
    "    if i//1==6:\n",
    "        print('D#')\n",
    "    if i//1==7:\n",
    "        print('E')\n",
    "    if i//1==8:\n",
    "        print('F')\n",
    "    if i//1==9:\n",
    "        print('F#')\n",
    "    if i//1==10:\n",
    "        print('G')\n",
    "    if i//1==11:\n",
    "        print('G#')"
   ]
  },
  {
   "cell_type": "code",
   "execution_count": 11,
   "metadata": {},
   "outputs": [
    {
     "name": "stdout",
     "output_type": "stream",
     "text": [
      "85.71428571428571\n",
      "96.76674364896074\n",
      "92.27053140096618\n",
      "94.20849420849422\n",
      "97.2809667673716\n",
      "88.79821958456974\n",
      "30.602409638554217\n",
      "95.88377723970945\n",
      "95.9349593495935\n",
      "65.71428571428571\n",
      "93.61702127659575\n",
      "90.29850746268657\n"
     ]
    },
    {
     "data": {
      "text/plain": [
       "array([[8.57142857e+01, 0.00000000e+00, 0.00000000e+00, 0.00000000e+00,\n",
       "        0.00000000e+00, 7.41839763e-02, 0.00000000e+00, 2.42130751e-01,\n",
       "        0.00000000e+00, 0.00000000e+00, 0.00000000e+00, 0.00000000e+00],\n",
       "       [0.00000000e+00, 9.67667436e+01, 9.66183575e-01, 3.86100386e-01,\n",
       "        4.53172205e-01, 4.45103858e-01, 0.00000000e+00, 1.21065375e-01,\n",
       "        4.06504065e-01, 0.00000000e+00, 0.00000000e+00, 0.00000000e+00],\n",
       "       [0.00000000e+00, 1.61662818e+00, 9.22705314e+01, 7.72200772e-01,\n",
       "        3.02114804e-01, 2.96735905e-01, 0.00000000e+00, 0.00000000e+00,\n",
       "        4.06504065e-01, 0.00000000e+00, 0.00000000e+00, 0.00000000e+00],\n",
       "       [0.00000000e+00, 4.61893764e-01, 0.00000000e+00, 9.42084942e+01,\n",
       "        6.04229607e-01, 6.67655786e-01, 0.00000000e+00, 0.00000000e+00,\n",
       "        0.00000000e+00, 0.00000000e+00, 0.00000000e+00, 0.00000000e+00],\n",
       "       [0.00000000e+00, 2.07852194e+00, 9.66183575e-01, 7.72200772e-01,\n",
       "        9.72809668e+01, 7.41839763e-02, 2.40963855e-01, 1.21065375e-01,\n",
       "        4.06504065e-01, 0.00000000e+00, 1.06382979e+00, 0.00000000e+00],\n",
       "       [0.00000000e+00, 3.23325635e+00, 0.00000000e+00, 1.93050193e+00,\n",
       "        1.51057402e-01, 8.87982196e+01, 3.06024096e+01, 2.42130751e-01,\n",
       "        4.06504065e-01, 0.00000000e+00, 0.00000000e+00, 7.46268657e-01],\n",
       "       [0.00000000e+00, 4.61893764e-01, 0.00000000e+00, 0.00000000e+00,\n",
       "        0.00000000e+00, 2.11424332e+01, 3.06024096e+01, 0.00000000e+00,\n",
       "        0.00000000e+00, 0.00000000e+00, 0.00000000e+00, 7.46268657e-01],\n",
       "       [4.76190476e+00, 9.23787529e-01, 9.66183575e-01, 0.00000000e+00,\n",
       "        2.41691843e+00, 5.93471810e-01, 2.40963855e-01, 9.58837772e+01,\n",
       "        0.00000000e+00, 0.00000000e+00, 2.12765957e+00, 0.00000000e+00],\n",
       "       [0.00000000e+00, 4.61893764e-01, 0.00000000e+00, 0.00000000e+00,\n",
       "        0.00000000e+00, 1.48367953e-01, 0.00000000e+00, 7.26392252e-01,\n",
       "        9.59349593e+01, 0.00000000e+00, 0.00000000e+00, 0.00000000e+00],\n",
       "       [0.00000000e+00, 0.00000000e+00, 4.83091787e-01, 0.00000000e+00,\n",
       "        3.02114804e-01, 7.41839763e-02, 0.00000000e+00, 4.84261501e-01,\n",
       "        1.62601626e+00, 6.57142857e+01, 0.00000000e+00, 0.00000000e+00],\n",
       "       [0.00000000e+00, 0.00000000e+00, 0.00000000e+00, 0.00000000e+00,\n",
       "        9.06344411e-01, 0.00000000e+00, 0.00000000e+00, 0.00000000e+00,\n",
       "        0.00000000e+00, 0.00000000e+00, 9.36170213e+01, 0.00000000e+00],\n",
       "       [0.00000000e+00, 2.30946882e-01, 0.00000000e+00, 0.00000000e+00,\n",
       "        0.00000000e+00, 5.93471810e-01, 4.81927711e-01, 2.42130751e-01,\n",
       "        0.00000000e+00, 0.00000000e+00, 0.00000000e+00, 9.02985075e+01]])"
      ]
     },
     "execution_count": 11,
     "metadata": {},
     "output_type": "execute_result"
    }
   ],
   "source": [
    "#pitch confusion matrix-run the original dataset for confusion matrix\n",
    "C=confusion_matrix(label_p, y_prediction_p)\n",
    "K=((C / C.astype(np.float).sum(axis=1))*100)\n",
    "for i in range (12):\n",
    "    print(K[i][i])\n",
    "K"
   ]
  },
  {
   "cell_type": "code",
   "execution_count": 13,
   "metadata": {},
   "outputs": [
    {
     "data": {
      "image/png": "[encoded data removed]",
      "text/plain": [
       "<Figure size 432x288 with 1 Axes>"
      ]
     },
     "metadata": {
      "needs_background": "light"
     },
     "output_type": "display_data"
    }
   ],
   "source": [
    "plt.plot(history.history['accuracy'])\n",
    "plt.plot(history.history['val_accuracy'])\n",
    "plt.title('model accuracy')\n",
    "plt.ylabel('accuracy')\n",
    "plt.xlabel('epoch')\n",
    "plt.legend(['train', 'test'], loc='upper left')\n",
    "plt.show()"
   ]
  },
  {
   "cell_type": "code",
   "execution_count": 14,
   "metadata": {},
   "outputs": [
    {
     "data": {
      "image/png": "[encoded data removed]",
      "text/plain": [
       "<Figure size 432x288 with 1 Axes>"
      ]
     },
     "metadata": {
      "needs_background": "light"
     },
     "output_type": "display_data"
    }
   ],
   "source": [
    "plt.plot(history.history['loss'])\n",
    "plt.plot(history.history['val_accuracy'])\n",
    "plt.title('model loss')\n",
    "plt.ylabel('loss')\n",
    "plt.xlabel('epoch')\n",
    "plt.legend(['train', 'test'], loc='upper left')\n",
    "plt.show()"
   ]
  },
  {
   "cell_type": "code",
   "execution_count": 18,
   "metadata": {},
   "outputs": [
    {
     "data": {
      "text/plain": [
       "<AxesSubplot:>"
      ]
     },
     "execution_count": 18,
     "metadata": {},
     "output_type": "execute_result"
    },
    {
     "data": {
      "image/png": "[encoded data removed]",
      "text/plain": [
       "<Figure size 432x288 with 2 Axes>"
      ]
     },
     "metadata": {
      "needs_background": "light"
     },
     "output_type": "display_data"
    }
   ],
   "source": [
    "sns.heatmap(K, annot=True)"
   ]
  },
  {
   "cell_type": "code",
   "execution_count": 31,
   "metadata": {},
   "outputs": [],
   "source": [
    "a=history.history['val_accuracy']"
   ]
  },
  {
   "cell_type": "code",
   "execution_count": 50,
   "metadata": {},
   "outputs": [],
   "source": [
    "a=[0.2954823076725006,\n",
    " 0.29487180709838867,\n",
    " 0.29487180709838867,\n",
    " 0.29487180709838867,\n",
    " 0.29487180709838867,\n",
    " 0.29487180709838867,\n",
    " 0.29487180709838867,\n",
    " 0.29487180709838867,\n",
    " 0.29487180709838867,\n",
    " 0.29487180709838867,\n",
    " 0.29487180709838867,\n",
    " 0.29487180709838867,\n",
    " 0.29487180709838867,\n",
    " 0.29487180709838867,\n",
    " 0.29487180709838867,\n",
    " 0.29487180709838867,\n",
    " 0.29487180709838867,\n",
    " 0.29487180709838867,\n",
    " 0.29487180709838867,\n",
    " 0.29487180709838867,\n",
    " 0.3003663122653961,\n",
    " 0.29304030537605286,\n",
    " 0.3302808403968811,\n",
    " 0.3797313868999481,\n",
    " 0.3571428656578064,\n",
    " 0.3919413983821869,\n",
    " 0.4536019563674927,\n",
    " 0.46764346957206726,\n",
    " 0.47863247990608215,\n",
    " 0.5,\n",
    " 0.5323565602302551,\n",
    " 0.5702075958251953,\n",
    " 0.598901093006134,\n",
    " 0.6098901033401489,\n",
    " 0.583638608455658,\n",
    " 0.6660561561584473,\n",
    " 0.6672771573066711,\n",
    " 0.7063491940498352,\n",
    " 0.7277167439460754,\n",
    " 0.721611738204956,\n",
    " 0.7307692170143127,\n",
    " 0.7496947646141052,\n",
    " 0.7533577680587769,\n",
    " 0.7515262365341187,\n",
    " 0.7753357887268066,\n",
    " 0.81440794467926,\n",
    " 0.8144932675361633,\n",
    " 0.8299878025054932,\n",
    " 0.8275458002090454,\n",
    " 0.84991452813148499,\n",
    " 0.8354822778701782,\n",
    " 0.84954822778701782,\n",
    " 0.8588156270980835,\n",
    " 0.86930402755737305,\n",
    " 0.8781440794467926,\n",
    " 0.8850182962417603,\n",
    " 0.8948718070983887,\n",
    " 0.8936508059501648,\n",
    " 0.8985348105430603,\n",
    " 0.881965823173523,\n",
    " 0.8721978139877319,\n",
    " 0.8936508059501648,\n",
    " 0.8892918300628662,\n",
    " 0.87960928082466125,\n",
    " 0.8623443031311035,\n",
    " 0.8686812996864319,\n",
    " 0.8650182962417603,\n",
    " 0.8531868243217468,\n",
    " 0.8623443031311035,\n",
    " 0.8780708289146423,\n",
    " 0.8589132905006409,\n",
    " 0.8858608174324036,\n",
    " 0.8975458002090454,\n",
    " 0.90070818185806274,\n",
    " 0.9162392973899841,\n",
    " 0.9247863054275513,\n",
    " 0.9046398162841797,\n",
    " 0.9295238208770752,\n",
    " 0.9144078254699707,\n",
    " 0.9113552927970886,\n",
    " 0.9021978139877319,\n",
    " 0.907692289352417,\n",
    " 0.907692289352417,\n",
    " 0.927924280166626,\n",
    " 0.9253968358039856,\n",
    " 0.9125762939453125,\n",
    " 0.93113552927970886,\n",
    " 0.9260073065757751,\n",
    " 0.9308913111686707,\n",
    " 0.90199023008346558,\n",
    " 0.908199023008346558,\n",
    " 0.8947893772721290588,\n",
    " 0.8928015872836112976,\n",
    " 0.8937997558116912842,\n",
    " 0.897918192744255066,\n",
    " 0.908205128312110901,\n",
    " 0.908253968358039856,\n",
    " 0.9128247863054275513,\n",
    " 0.9128229548335075378,\n",
    " 0.918137972950935364]\n"
   ]
  },
  {
   "cell_type": "code",
   "execution_count": null,
   "metadata": {},
   "outputs": [],
   "source": []
  },
  {
   "cell_type": "code",
   "execution_count": 29,
   "metadata": {},
   "outputs": [],
   "source": [
    "c=[1.6251827478408813,\n",
    " 1.0479708909988403,\n",
    " 0.7001164555549622,\n",
    " 0.555008053779602,\n",
    " 0.41813498735427856,\n",
    " 0.38095512986183167,\n",
    " 0.34063321352005005,\n",
    " 0.260964572429657,\n",
    " 0.23584528267383575,\n",
    " 0.20206931233406067,\n",
    " 0.18418239057064056,\n",
    " 0.1772794872522354,\n",
    " 0.1393066644668579,\n",
    " 0.13157175481319427,\n",
    " 0.11992829293012619,\n",
    " 0.11174345016479492,\n",
    " 0.1205054447054863,\n",
    " 0.14205023646354675,\n",
    " 0.12334411591291428,\n",
    " 0.04763173684477806,\n",
    " 0.047464895993471146,\n",
    " 0.05181586980819702,\n",
    " 0.0565271931886673,\n",
    " 0.05611315160989761,\n",
    " 0.049414850771427155,\n",
    " 0.04213789314031601,\n",
    " 0.033670054972171783,\n",
    " 0.031707089617848396,\n",
    " 0.039872596487402916,\n",
    " 0.030072773098945618,\n",
    " 0.038332678824663162,\n",
    " 0.027939583957195282,\n",
    " 0.03357586324214935,\n",
    " 0.058526979386806488,\n",
    " 0.06027770578861237,\n",
    " 0.05934980347752571,\n",
    " 0.07236339688301086,\n",
    " 0.06660092622041702,\n",
    " 0.04992201179265976,\n",
    " 0.05590809881687164,\n",
    " 0.04632428288459778,\n",
    " 0.07355733960866928,\n",
    " 0.055243540555238724,\n",
    " 0.0732559934258461,\n",
    " 0.08534380048513412,\n",
    " 0.07536143064498901,\n",
    " 0.0478709451854229,\n",
    " 0.0481091870367527,\n",
    " 0.04087831124663353,\n",
    " 0.0518176943063735962,\n",
    " 0.051720556616783142,\n",
    " 0.051766332983970642,\n",
    " 0.0517629684880375862,\n",
    " 0.0517163533717393875,\n",
    " 0.051706750877201557,\n",
    " 0.0516891807317733765,\n",
    " 0.0616734786331653595,\n",
    " 0.0616698714345693588,\n",
    " 0.075571482479572296,\n",
    " 0.075767551958560944,\n",
    " 0.074939281158149242,\n",
    " 0.075087415464222431,\n",
    " 0.086719182953238487,\n",
    " 0.07172277569770813,\n",
    " 0.051586133539676666,\n",
    " 0.0603412327170372,\n",
    " 0.07275522500276566,\n",
    " 0.059280019253492355,\n",
    " 0.047165922820568085,\n",
    " 0.07322529703378677,\n",
    " 0.04289010167121887,\n",
    " 0.02245781011879444,\n",
    " 0.03811538077890873,\n",
    " 0.04637491121888161,\n",
    " 0.043364713191986084,\n",
    " 0.046978615671396255,\n",
    " 0.047436312288045883,\n",
    " 0.052101601362228394,\n",
    " 0.05578001797199249,\n",
    " 0.0332551089823246,\n",
    " 0.033522223830223083,\n",
    " 0.04278929390013218,\n",
    " 0.03596314065158367,\n",
    " 0.029240759313106537,\n",
    " 0.025078851953148842,\n",
    " 0.024794541522860527,\n",
    " 0.024370523393154144,\n",
    " 0.023690231367945671,\n",
    " 0.02396432239562273,\n",
    " 0.023538865372538567,\n",
    " 0.0014384333044290543,\n",
    " 0.0013999875634908676,\n",
    " 0.0014035262167453766,\n",
    " 0.0013186710886657238,\n",
    " 0.0013431310653686523,\n",
    " 0.0013361889868974686,\n",
    " 0.001368466392159462,\n",
    " 0.0019570546224713326,\n",
    " 0.002089990079402924,\n",
    " 0.004011702060699463]"
   ]
  },
  {
   "cell_type": "code",
   "execution_count": 30,
   "metadata": {},
   "outputs": [
    {
     "data": {
      "image/png": "[encoded data removed]",
      "text/plain": [
       "<Figure size 432x288 with 1 Axes>"
      ]
     },
     "metadata": {
      "needs_background": "light"
     },
     "output_type": "display_data"
    }
   ],
   "source": [
    "plt.plot(c)\n",
    "plt.plot(d)\n",
    "plt.title('model loss')\n",
    "plt.ylabel('loss')\n",
    "plt.xlabel('epoch')\n",
    "plt.legend(['train', 'test'], loc='upper left')\n",
    "plt.show()"
   ]
  },
  {
   "cell_type": "code",
   "execution_count": 51,
   "metadata": {},
   "outputs": [
    {
     "data": {
      "image/png": "[encoded data removed]",
      "text/plain": [
       "<Figure size 432x288 with 1 Axes>"
      ]
     },
     "metadata": {
      "needs_background": "light"
     },
     "output_type": "display_data"
    }
   ],
   "source": [
    "plt.plot(history.history['accuracy'])\n",
    "plt.plot(a)\n",
    "plt.title('model accuracy')\n",
    "plt.ylabel('accuracy')\n",
    "plt.xlabel('epoch')\n",
    "plt.legend(['train', 'test'], loc='upper left')\n",
    "plt.show()"
   ]
  },
  {
   "cell_type": "code",
   "execution_count": null,
   "metadata": {},
   "outputs": [],
   "source": []
  },
  {
   "cell_type": "code",
   "execution_count": null,
   "metadata": {},
   "outputs": [],
   "source": []
  },
  {
   "cell_type": "code",
   "execution_count": null,
   "metadata": {},
   "outputs": [],
   "source": []
  },
  {
   "cell_type": "code",
   "execution_count": null,
   "metadata": {},
   "outputs": [],
   "source": []
  },
  {
   "cell_type": "code",
   "execution_count": null,
   "metadata": {},
   "outputs": [],
   "source": []
  },
  {
   "cell_type": "code",
   "execution_count": null,
   "metadata": {},
   "outputs": [],
   "source": []
  },
  {
   "cell_type": "code",
   "execution_count": null,
   "metadata": {},
   "outputs": [],
   "source": []
  },
  {
   "cell_type": "code",
   "execution_count": null,
   "metadata": {},
   "outputs": [],
   "source": []
  },
  {
   "cell_type": "code",
   "execution_count": null,
   "metadata": {},
   "outputs": [],
   "source": []
  },
  {
   "cell_type": "code",
   "execution_count": null,
   "metadata": {},
   "outputs": [],
   "source": []
  },
  {
   "cell_type": "code",
   "execution_count": null,
   "metadata": {},
   "outputs": [],
   "source": []
  },
  {
   "cell_type": "code",
   "execution_count": null,
   "metadata": {},
   "outputs": [],
   "source": []
  },
  {
   "cell_type": "code",
   "execution_count": null,
   "metadata": {},
   "outputs": [],
   "source": []
  },
  {
   "cell_type": "code",
   "execution_count": null,
   "metadata": {},
   "outputs": [],
   "source": []
  },
  {
   "cell_type": "code",
   "execution_count": null,
   "metadata": {},
   "outputs": [],
   "source": []
  }
 ],
 "metadata": {
  "kernelspec": {
   "display_name": "Python 3",
   "language": "python",
   "name": "python3"
  },
  "language_info": {
   "codemirror_mode": {
    "name": "ipython",
    "version": 3
   },
   "file_extension": ".py",
   "mimetype": "text/x-python",
   "name": "python",
   "nbconvert_exporter": "python",
   "pygments_lexer": "ipython3",
   "version": "3.8.5"
  }
 },
 "nbformat": 4,
 "nbformat_minor": 4
}
